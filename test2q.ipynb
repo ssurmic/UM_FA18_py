{
 "cells": [
  {
   "cell_type": "code",
   "execution_count": 11,
   "metadata": {},
   "outputs": [],
   "source": [
    "import numpy as np\n",
    "fda_data = np.loadtxt('/Users/zizhaozhang/Desktop/umich/607/hw2/adverseCountsFinal.txt')"
   ]
  },
  {
   "cell_type": "code",
   "execution_count": 12,
   "metadata": {},
   "outputs": [],
   "source": [
    "incidents = fda_data.sum(axis = 0)[1:]\n",
    "incidents"
   ]
  },
  {
   "cell_type": "code",
   "execution_count": 13,
   "metadata": {},
   "outputs": [],
   "source": [
    "side_affects_by_year = np.sum(np.delete(fda_data, 0, axis=1),axis=1)\n",
    "side_affects_by_year"
   ]
  },
  {
   "cell_type": "code",
   "execution_count": 14,
   "metadata": {},
   "outputs": [],
   "source": [
    "side_affects_count = np.max(fda_data,axis=0)[1:]\n",
    "side_affects_count"
   ]
  },
  {
   "cell_type": "code",
   "execution_count": 15,
   "metadata": {},
   "outputs": [],
   "source": [
    "#fda_data.argmax(axis = 0)[1:]"
   ]
  },
  {
   "cell_type": "code",
   "execution_count": 16,
   "metadata": {},
   "outputs": [],
   "source": [
    "highest_year = fda_data[fda_data.argmax(axis = 0)[1:]][:,0]\n",
    "highest_year"
   ]
  },
  {
   "cell_type": "code",
   "execution_count": 17,
   "metadata": {},
   "outputs": [],
   "source": [
    "#highest_indicent_by_year\n",
    "incident_array = np.delete(fda_data, 0, axis=1)\n",
    "np.argmax(incident_array,axis = 1)\n",
    "highest_incident = [np.argmax(incident_array,axis = 1)]\n",
    "highest_incident"
   ]
  },
  {
   "cell_type": "code",
   "execution_count": 18,
   "metadata": {},
   "outputs": [],
   "source": [
    "incident_array = np.delete(fda_data, 0, axis=1)"
   ]
  },
  {
   "cell_type": "code",
   "execution_count": 19,
   "metadata": {},
   "outputs": [],
   "source": [
    "#2.6\n"
   ]
  },
  {
   "cell_type": "code",
   "execution_count": 20,
   "metadata": {},
   "outputs": [],
   "source": [
    "def Q7(data):\n",
    "    labels = [\"Serious \", \"Death\", \"Non-serious\"]\n",
    "    plt.stackplot(data[:,0], data[:,1], data[:,2],data[:,3], labels=labels)\n",
    "    plt.legend(loc=2)\n",
    "    plt.xlabel('Year')\n",
    "    plt.ylabel('Cases')\n",
    "    plt.show()"
   ]
  },
  {
   "cell_type": "code",
   "execution_count": null,
   "metadata": {},
   "outputs": [],
   "source": []
  }
 ],
 "metadata": {
  "kernelspec": {
   "display_name": "Python 3",
   "language": "python",
   "name": "python3"
  },
  "language_info": {
   "codemirror_mode": {
    "name": "ipython",
    "version": 3
   },
   "file_extension": ".py",
   "mimetype": "text/x-python",
   "name": "python",
   "nbconvert_exporter": "python",
   "pygments_lexer": "ipython3",
   "version": "3.6.5"
  }
 },
 "nbformat": 4,
 "nbformat_minor": 2
}
